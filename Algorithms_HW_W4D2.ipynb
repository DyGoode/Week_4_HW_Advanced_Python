{
 "cells": [
  {
   "cell_type": "markdown",
   "id": "57725e71",
   "metadata": {},
   "source": [
    "# Exercises"
   ]
  },
  {
   "cell_type": "markdown",
   "id": "6ff45ee1",
   "metadata": {},
   "source": [
    "### Exercise #1 <br>\n",
    "<p>Reverse the list below in-place using an in-place algorithm.<br>For extra credit: Reverse the strings at the same time.</p>"
   ]
  },
  {
   "cell_type": "code",
   "execution_count": null,
   "id": "c7e0aad6",
   "metadata": {},
   "outputs": [],
   "source": [
    "# hint: use a swap for this one!\n",
    "# Extra credit if you can write something for any size list"
   ]
  },
  {
   "cell_type": "code",
   "execution_count": 4,
   "id": "8280ba4c",
   "metadata": {},
   "outputs": [
    {
     "name": "stdout",
     "output_type": "stream",
     "text": [
      "Before swap: ['this', 'is', 'a', 'sentence', '.']\n",
      "AFTER SWAP: ['.', 'sentence', 'a', 'is', 'this']\n"
     ]
    }
   ],
   "source": [
    "words = ['this' , 'is', 'a', 'sentence', '.']\n",
    "\n",
    "def swap(alist, v, w, x, y, z):\n",
    "    alist[v], alist[w], alist[x], alist[y], alist[z] = alist[z], alist[y], alist[x], alist[w], alist[v]\n",
    "    return alist\n",
    "\n",
    "print(f\"Before swap: {words}\")\n",
    "\n",
    "\n",
    "swap(words, 0, 1, 2, 3, 4)\n",
    "print(f\"AFTER SWAP: {words}\")"
   ]
  },
  {
   "cell_type": "code",
   "execution_count": null,
   "id": "8eb20dbf",
   "metadata": {},
   "outputs": [],
   "source": []
  },
  {
   "cell_type": "markdown",
   "id": "57b85d08",
   "metadata": {},
   "source": [
    "### Exercise #2 <br>\n",
    "<p>Create a function that counts how many distinct words are in the string below, then outputs a dictionary with the words as the key and the value as the amount of times that word appears in the string.<br>Should output:<br>{'a': 5,<br>\n",
    " 'abstract': 1,<br>\n",
    " 'an': 3,<br>\n",
    " 'array': 2, ... etc...</p>"
   ]
  },
  {
   "cell_type": "code",
   "execution_count": null,
   "id": "a95a6e4c",
   "metadata": {},
   "outputs": [],
   "source": [
    "#pay attention to the string if you get 4 a's instead of 5\n",
    "## Hahaha that uppercase A"
   ]
  },
  {
   "cell_type": "code",
   "execution_count": 8,
   "id": "13c2c9d6",
   "metadata": {},
   "outputs": [
    {
     "name": "stdout",
     "output_type": "stream",
     "text": [
      "['in', 'computing,', 'a', 'hash', 'table', 'hash', 'map', 'is', 'a', 'data', 'structure', 'which', 'implements', 'an', 'associative', 'array', 'abstract', 'data', 'type,', 'a', 'structure', 'that', 'can', 'map', 'keys', 'to', 'values.', 'a', 'hash', 'table', 'uses', 'a', 'hash', 'function', 'to', 'compute', 'an', 'index', 'into', 'an', 'array', 'of', 'buckets', 'or', 'slots', 'from', 'which', 'the', 'desired', 'value', 'can', 'be', 'found']\n"
     ]
    },
    {
     "data": {
      "text/plain": [
       "Counter({'in': 1,\n",
       "         'computing,': 1,\n",
       "         'a': 5,\n",
       "         'hash': 4,\n",
       "         'table': 2,\n",
       "         'map': 2,\n",
       "         'is': 1,\n",
       "         'data': 2,\n",
       "         'structure': 2,\n",
       "         'which': 2,\n",
       "         'implements': 1,\n",
       "         'an': 3,\n",
       "         'associative': 1,\n",
       "         'array': 2,\n",
       "         'abstract': 1,\n",
       "         'type,': 1,\n",
       "         'that': 1,\n",
       "         'can': 2,\n",
       "         'keys': 1,\n",
       "         'to': 2,\n",
       "         'values.': 1,\n",
       "         'uses': 1,\n",
       "         'function': 1,\n",
       "         'compute': 1,\n",
       "         'index': 1,\n",
       "         'into': 1,\n",
       "         'of': 1,\n",
       "         'buckets': 1,\n",
       "         'or': 1,\n",
       "         'slots': 1,\n",
       "         'from': 1,\n",
       "         'the': 1,\n",
       "         'desired': 1,\n",
       "         'value': 1,\n",
       "         'be': 1,\n",
       "         'found': 1})"
      ]
     },
     "execution_count": 8,
     "metadata": {},
     "output_type": "execute_result"
    }
   ],
   "source": [
    "a_text = 'In computing, a hash table hash map is a data structure which implements an associative array abstract data type, a structure that can map keys to values. A hash table uses a hash function to compute an index into an array of buckets or slots from which the desired value can be found'\n",
    "\n",
    "single_words = a_text.lower().split()\n",
    "\n",
    "print(single_words)\n",
    "\n",
    "from collections import Counter\n",
    "\n",
    "Counter(single_words)\n",
    "    "
   ]
  },
  {
   "cell_type": "markdown",
   "id": "418e903d",
   "metadata": {},
   "source": [
    "## Exercise #3\n",
    "\n",
    "Write a program to implement a Linear Search Algorithm. Also in a comment, write the Time Complexity of the following algorithm.\n",
    "\n",
    "#### Hint: Linear Searching will require searching a list for a given number. "
   ]
  },
  {
   "cell_type": "code",
   "execution_count": null,
   "id": "b97c6d61",
   "metadata": {},
   "outputs": [],
   "source": [
    "read this to figure out time complexity before you even do the the problem"
   ]
  },
  {
   "cell_type": "code",
   "execution_count": null,
   "id": "2f6ede98",
   "metadata": {},
   "outputs": [],
   "source": [
    "# The time complexity of this should be O(n) i guesssss???\n",
    "#I'm pretty sure I'm NOT sure whats gong on here & just hoping for the best!"
   ]
  },
  {
   "cell_type": "code",
   "execution_count": 16,
   "id": "c581c528",
   "metadata": {},
   "outputs": [
    {
     "name": "stdout",
     "output_type": "stream",
     "text": [
      "Its lonely here.\n",
      "Its lonely here.\n",
      "Its lonely here.\n",
      "Its lonely here.\n",
      "Its lonely here.\n",
      "Its lonely here.\n",
      "Its lonely here.\n",
      "Its lonely here.\n",
      "Its lonely here.\n",
      "Found my twin 9 and 9\n",
      "Its lonely here.\n"
     ]
    }
   ],
   "source": [
    "this_list = [0, 1, 2, 3, 4, 5, 6, 7, 8, 9, 10]\n",
    "\n",
    "# z = end of list\n",
    "z = len(this_list)-1\n",
    "\n",
    "given_num = 9\n",
    "\n",
    "def LinSeaAlg(this_list):\n",
    "    for num in this_list:\n",
    "        if num == given_num:\n",
    "            print(f\"Found my twin {num} and {given_num}\")\n",
    "        else:\n",
    "            print(\"Its lonely here.\")\n",
    "\n",
    "\n",
    "LinSeaAlg(this_list)"
   ]
  }
 ],
 "metadata": {
  "kernelspec": {
   "display_name": "Python 3.10.7 64-bit",
   "language": "python",
   "name": "python3"
  },
  "language_info": {
   "codemirror_mode": {
    "name": "ipython",
    "version": 3
   },
   "file_extension": ".py",
   "mimetype": "text/x-python",
   "name": "python",
   "nbconvert_exporter": "python",
   "pygments_lexer": "ipython3",
   "version": "3.10.7"
  },
  "vscode": {
   "interpreter": {
    "hash": "a83336f0f8c683620bdc051fe24609cb8522665a3bc9fb6c22b132fe54b1747c"
   }
  }
 },
 "nbformat": 4,
 "nbformat_minor": 5
}
