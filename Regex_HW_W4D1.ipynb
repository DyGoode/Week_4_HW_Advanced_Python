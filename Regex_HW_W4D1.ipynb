{
 "cells": [
  {
   "cell_type": "markdown",
   "id": "4a620638",
   "metadata": {},
   "source": [
    "### Regex project\n",
    "\n",
    "Use python to read the file regex_test.txt and print the last name on each line using regular expressions and groups (return None for names with no first and last name, or names that aren't properly capitalized)\n",
    "##### Hint: use with open() and readlines()"
   ]
  },
  {
   "cell_type": "code",
   "execution_count": null,
   "id": "0687133c",
   "metadata": {},
   "outputs": [],
   "source": [
    "\"\"\"\n",
    "Expected Output\n",
    "Abraham Lincoln\n",
    "Andrew P Garfield\n",
    "Connor Milliken\n",
    "Jordan Alexander Williams\n",
    "None\n",
    "None\n",
    "\"\"\""
   ]
  },
  {
   "cell_type": "code",
   "execution_count": 2,
   "id": "cc674591",
   "metadata": {},
   "outputs": [
    {
     "name": "stdout",
     "output_type": "stream",
     "text": [
      "['Abraham Lincoln\\n', 'Andrew P Garfield\\n', 'Connor Milliken\\n', 'Jordan Alexander Williams\\n', 'Madonna\\n', 'programming is cool\\n']\n"
     ]
    }
   ],
   "source": [
    "import re\n",
    "\n",
    "with open(\"regex_test.txt\")as f:\n",
    "    data = f.readlines()\n",
    "    \n",
    "    print(data)"
   ]
  },
  {
   "cell_type": "code",
   "execution_count": 6,
   "id": "576c1282",
   "metadata": {},
   "outputs": [
    {
     "name": "stdout",
     "output_type": "stream",
     "text": [
      "\n",
      "Abraham  Lincoln\n",
      "\n",
      "Andrew P  Garfield\n",
      "\n",
      "Connor  Milliken\n",
      "\n",
      "Jordan Alexander  Williams\n",
      "None\n",
      "None\n"
     ]
    }
   ],
   "source": [
    "pattern = re.compile(\"([A-Z][a-z]+) ([\\w ]*)([A-Z][a-z]+)\")\n",
    "\n",
    "for person in data:\n",
    "    match = pattern.search(person)\n",
    "    \n",
    "    if match:\n",
    "        if match.group(1):\n",
    "            print('\\n' f\"{match.group(1)} {match.group(2)} {match.group(3)}\")\n",
    "        else:\n",
    "            print('\\n' f\"{match.group(1)}{match.group(3)}\")\n",
    "    else:\n",
    "        print(\"None\")"
   ]
  }
 ],
 "metadata": {
  "kernelspec": {
   "display_name": "Python 3 (ipykernel)",
   "language": "python",
   "name": "python3"
  },
  "language_info": {
   "codemirror_mode": {
    "name": "ipython",
    "version": 3
   },
   "file_extension": ".py",
   "mimetype": "text/x-python",
   "name": "python",
   "nbconvert_exporter": "python",
   "pygments_lexer": "ipython3",
   "version": "3.10.7"
  }
 },
 "nbformat": 4,
 "nbformat_minor": 5
}
